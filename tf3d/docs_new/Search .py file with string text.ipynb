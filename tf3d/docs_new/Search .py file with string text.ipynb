{
 "cells": [
  {
   "cell_type": "code",
   "execution_count": 1,
   "id": "adc7480a",
   "metadata": {},
   "outputs": [
    {
     "name": "stdout",
     "output_type": "stream",
     "text": [
      "What is the name of your directory..\\tf3d\n",
      "What word are you trying to find?parse\n",
      "string not found\n",
      "string not found\n",
      "string not found\n",
      "string not found\n",
      "string not found\n",
      "found string in file eval.py\n",
      "string not found\n",
      "string not found\n",
      "found string in file README.md\n",
      "string not found\n",
      "string not found\n",
      "string not found\n",
      "found string in file train.py\n"
     ]
    }
   ],
   "source": [
    "### search string in all files under specified directory\n",
    "\n",
    "import os\n",
    "\n",
    "user_input = input('What is the name of your directory')\n",
    "directory = os.listdir(user_input)\n",
    "\n",
    "searchstring = input('What word are you trying to find?')\n",
    "\n",
    "for fname in directory:\n",
    "    if os.path.isfile(user_input + os.sep + fname):\n",
    "        # Full path\n",
    "        f = open(user_input + os.sep + fname, 'r')\n",
    "\n",
    "        if searchstring in f.read():\n",
    "            print('found string in file %s' % fname)\n",
    "        else:\n",
    "            print('string not found')\n",
    "        f.close()"
   ]
  },
  {
   "cell_type": "code",
   "execution_count": 5,
   "id": "b14abab7",
   "metadata": {},
   "outputs": [
    {
     "name": "stdout",
     "output_type": "stream",
     "text": [
      "What is the name of your directory../../tf3d\n",
      "What word are you trying to find?experimental_run_v2\n"
     ]
    }
   ],
   "source": [
    "### search string in all .py files under specified directory and its subdirectory \n",
    "\n",
    "import glob\n",
    "\n",
    "directory = input('What is the name of your directory')\n",
    "# directory = os.listdir(user_input)\n",
    "searchstring = input('What word are you trying to find?')\n",
    "\n",
    "file_list = glob.glob(directory+\"/*.py\")\n",
    "file_list.extend(glob.glob(directory+\"/*/*.py\"))\n",
    "file_list.extend(glob.glob(directory+\"/*/*/*.py\"))\n",
    "file_list.extend(glob.glob(directory+\"/*/*/*/*.py\"))\n",
    "\n",
    "for file in file_list:\n",
    "    with open(file, 'r', encoding=\"utf8\") as f:\n",
    "        if searchstring in f.read():\n",
    "            print(file)"
   ]
  },
  {
   "cell_type": "code",
   "execution_count": null,
   "id": "33d0edc3",
   "metadata": {},
   "outputs": [],
   "source": []
  }
 ],
 "metadata": {
  "kernelspec": {
   "display_name": "Python 3",
   "language": "python",
   "name": "python3"
  },
  "language_info": {
   "codemirror_mode": {
    "name": "ipython",
    "version": 3
   },
   "file_extension": ".py",
   "mimetype": "text/x-python",
   "name": "python",
   "nbconvert_exporter": "python",
   "pygments_lexer": "ipython3",
   "version": "3.6.13"
  }
 },
 "nbformat": 4,
 "nbformat_minor": 5
}
