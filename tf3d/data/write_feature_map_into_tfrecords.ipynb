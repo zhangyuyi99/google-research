{
 "cells": [
  {
   "cell_type": "code",
   "execution_count": null,
   "id": "7fa8f26b",
   "metadata": {},
   "outputs": [],
   "source": [
    "import tensorflow as tf\n",
    "\n",
    "# The following functions can be used to convert a value to a type compatible\n",
    "# with tf.train.Example.\n",
    "\n",
    "def _float_feature(value):\n",
    "  \"\"\"Returns a float_list from a float / double.\"\"\"\n",
    "  return tf.train.Feature(float_list=tf.train.FloatList(value=value))\n",
    "\n",
    "def _int64_feature(value):\n",
    "  \"\"\"Returns an int64_list from a bool / enum / int / uint.\"\"\"\n",
    "  return tf.train.Feature(int64_list=tf.train.Int64List(value=value))\n",
    "\n",
    "def _bytes_feature(value):\n",
    "  \"\"\"Returns a bytes_list from a string / byte.\"\"\"\n",
    "  if isinstance(value, type(tf.constant(0))):\n",
    "    value = value.numpy() # BytesList won't unpack a string from an EagerTensor.\n",
    "  return tf.train.Feature(bytes_list=tf.train.BytesList(value=value))"
   ]
  },
  {
   "cell_type": "code",
   "execution_count": null,
   "id": "747de498",
   "metadata": {},
   "outputs": [],
   "source": [
    "### load the features file into dictionary d, create tf.example with d and write it into .tfrecord file\n",
    "\n",
    "d = {}\n",
    "key_type = {}\n",
    "with open(\"siemens_in_waymo_combined - Copy.txt\") as f:\n",
    "    for line in f:\n",
    "        if 'feature' in line or 'value {' in line:\n",
    "            pass\n",
    "        elif 'key' in line:\n",
    "            current_key = line[line.index(\"\\\"\") + 1: line.index(\"\\\"\",10,100):];\n",
    "            d[current_key] = []\n",
    "        elif 'int64_list' in line:\n",
    "            key_type[current_key] = 'int64'\n",
    "        elif 'float_list' in line:\n",
    "            key_type[current_key] = 'float'\n",
    "        elif 'bytes_list' in line:\n",
    "            key_type[current_key] = 'bytes'\n",
    "        elif 'value: ' in line:\n",
    "            val_str = line[line.index(\":\") + 2: len(line):]\n",
    "            if val_str[len(val_str)-1]=='\\n':\n",
    "                val_str = val_str[:-1]\n",
    "            if key_type[current_key] == 'bytes':\n",
    "                val_str_bytes = bytes(val_str,'utf-8')\n",
    "                d[current_key].append(val_str_bytes.decode('unicode-escape').encode('utf-8'))\n",
    "            elif key_type[current_key] == 'int64':\n",
    "                d[current_key].append(int(val_str))\n",
    "            elif key_type[current_key] == 'float':\n",
    "                d[current_key].append(float(val_str))\n",
    "\n",
    "\n",
    "for key, value in d.items():\n",
    "    if key_type[key] == 'bytes':\n",
    "         d[key] = _bytes_feature(value)\n",
    "    elif key_type[key] == 'int64':\n",
    "         d[key] = _int64_feature(value)\n",
    "    elif key_type[key] == 'float':\n",
    "         d[key] = _float_feature(value)\n",
    "\n",
    "tf_example = tf.train.Example(features=tf.train.Features(feature=d))\n",
    "\n",
    "record_file = 'siemens_dataset_combined_waymo/train_Terrain with Buildings LiDAR.tfrecords'\n",
    "with tf.io.TFRecordWriter(record_file) as writer:\n",
    "    writer.write(tf_example.SerializeToString())"
   ]
  }
 ],
 "metadata": {
  "kernelspec": {
   "display_name": "Python 3",
   "language": "python",
   "name": "python3"
  },
  "language_info": {
   "codemirror_mode": {
    "name": "ipython",
    "version": 3
   },
   "file_extension": ".py",
   "mimetype": "text/x-python",
   "name": "python",
   "nbconvert_exporter": "python",
   "pygments_lexer": "ipython3",
   "version": "3.9.1"
  }
 },
 "nbformat": 4,
 "nbformat_minor": 5
}
